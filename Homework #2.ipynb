{
 "cells": [
  {
   "cell_type": "markdown",
   "metadata": {},
   "source": [
    "# Homework 2 \n",
    "## Due 9/24/2017\n",
    "### Anjali Desai"
   ]
  },
  {
   "cell_type": "markdown",
   "metadata": {},
   "source": [
    "First we want to import our libraries and read our csv document where all our data is stored"
   ]
  },
  {
   "cell_type": "code",
   "execution_count": null,
   "metadata": {
    "collapsed": true
   },
   "outputs": [],
   "source": [
    "# Import both pandas and numpy libraries\n",
    "import pandas as pd\n",
    "import numpy as np\n",
    "import matplotlib.pyplot as plt\n",
    "import matplotlib\n",
    "matplotlib.style.use('ggplot')\n",
    "# Read the csv document\n",
    "xl = pd.read_csv('data.csv')\n",
    "xl2 = pd.read_csv('data2.csv')\n",
    "xl"
   ]
  },
  {
   "cell_type": "markdown",
   "metadata": {},
   "source": [
    "Now we want to fill in our missing data with our mean values of each column"
   ]
  },
  {
   "cell_type": "code",
   "execution_count": null,
   "metadata": {
    "collapsed": true
   },
   "outputs": [],
   "source": [
    "# get mean of each column (that contains missing values) and fill in the missing value \n",
    "# with the mean of the column\n",
    "xl = xl.fillna(xl.mean()['Milk'])\n",
    "xl = xl.fillna(xl.mean()['Grocery'])\n",
    "xl = xl.fillna(xl.mean()['Detergents_Paper'])\n",
    "xl = xl.fillna(xl.mean()['Delicassen'])\n",
    "\n",
    "xl"
   ]
  },
  {
   "cell_type": "markdown",
   "metadata": {},
   "source": [
    "Our last step is to figure out how far off our estimates were from the actual data"
   ]
  },
  {
   "cell_type": "code",
   "execution_count": null,
   "metadata": {},
   "outputs": [],
   "source": [
    "# plot the difference of the computed missing values to the actual values\n",
    "ax = xl.plot.scatter(x='Milk', y='Detergents_Paper', color='Green', label='Missing Data')\n",
    "xl2.plot.scatter(x='Milk', y='Detergents_Paper', color='Purple', label='Completed Data', ax=ax)\n",
    "plt.show()"
   ]
  }
 ],
 "metadata": {
  "kernelspec": {
   "display_name": "Python 3",
   "language": "python",
   "name": "python3"
  },
  "language_info": {
   "codemirror_mode": {
    "name": "ipython",
    "version": 3
   },
   "file_extension": ".py",
   "mimetype": "text/x-python",
   "name": "python",
   "nbconvert_exporter": "python",
   "pygments_lexer": "ipython3",
   "version": "3.6.1"
  }
 },
 "nbformat": 4,
 "nbformat_minor": 2
}
