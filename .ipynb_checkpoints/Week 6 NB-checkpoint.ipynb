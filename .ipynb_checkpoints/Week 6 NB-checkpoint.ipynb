{
 "cells": [
  {
   "cell_type": "markdown",
   "metadata": {},
   "source": [
    "# Facebook thinks the most useful digital assistant is the one that can read minds "
   ]
  },
  {
   "cell_type": "markdown",
   "metadata": {
    "collapsed": true
   },
   "source": [
    "### Summary\n",
    "Facebook wants to revolutionize the way we use digital assistants.  Instead of speaking to our digital assistant we would communicate with it using our mind.  In a demo they showed a woman using her mind to move a cursor around the screen.  \n",
    "\n",
    "Facebook is looking at the esperiment that computer scientist, Christian Herff, is conducting.  He uses a neural implant in his research to decifer human thoughts and have a computer translate them into actions.  This is a very invasive process, but Facebook wants their way to be non-invasive.  They also want the assistant to decifer a 100 words per minute.  The program is still in the very early stages.  "
   ]
  },
  {
   "cell_type": "markdown",
   "metadata": {},
   "source": [
    "#### Additional Comments:\n",
    "I think the concept as a whole is very interesting and unique, but seems very invasive and intrusive of people's privacy.  "
   ]
  },
  {
   "cell_type": "markdown",
   "metadata": {},
   "source": [
    "### How would you go about coding this AI?\n",
    "It seems that this AI is very heavily dependent on neuroscience and how the brain processes thoughts.\n",
    "\n",
    "1) Have some type of neural interface that gathers human thoughts\n",
    "\n",
    "2) Have the AI convert the thoughts into data\n",
    "\n",
    "3) Train the AI on the data so that it can adapt to other human thoughts"
   ]
  },
  {
   "cell_type": "markdown",
   "metadata": {},
   "source": [
    "### Creative Generalization\n",
    "I think the concept is very interesting and would be very helpful to people with disabilities in the future once it is more developed.  "
   ]
  },
  {
   "cell_type": "markdown",
   "metadata": {},
   "source": [
    "### Potential Problem\n",
    "One potential problem I forsee is that the whole process is very invasive and intrusive of someone's privacy.  One sentence in the article that particularly disturbs me is \"A digital assistant that can literally listen to your thoughts, anywhere and at anytime, and privately.\"  I am unsure of how \"private\" this AI can actually be.  "
   ]
  }
 ],
 "metadata": {
  "kernelspec": {
   "display_name": "Python 3",
   "language": "python",
   "name": "python3"
  },
  "language_info": {
   "codemirror_mode": {
    "name": "ipython",
    "version": 3
   },
   "file_extension": ".py",
   "mimetype": "text/x-python",
   "name": "python",
   "nbconvert_exporter": "python",
   "pygments_lexer": "ipython3",
   "version": "3.6.1"
  }
 },
 "nbformat": 4,
 "nbformat_minor": 2
}
