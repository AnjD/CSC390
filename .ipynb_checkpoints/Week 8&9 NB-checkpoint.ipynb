{
 "cells": [
  {
   "cell_type": "markdown",
   "metadata": {},
   "source": [
    "# Artificial Intelligence Is Killing the Uncanny Valley and Our Grasp on Reality"
   ]
  },
  {
   "cell_type": "markdown",
   "metadata": {
    "collapsed": true
   },
   "source": [
    "### Summary\n",
    "The article explores how machine learning has enabled people to create very life like recreations of real life.  Sometimes it even gets hard to decifer what is real and what isn't.  \n",
    "\n",
    "It brings up the issue that at somepoint in time it will become extremely hard to distinguish reality from computer fabrication.  "
   ]
  },
  {
   "cell_type": "markdown",
   "metadata": {},
   "source": [
    "#### Additional Comments:\n",
    "The article brings up some good points on the fear of loosing ones sense of reality as technology advances.  "
   ]
  },
  {
   "cell_type": "markdown",
   "metadata": {},
   "source": [
    "### How would you go about coding this AI?\n",
    "This article doesn't discuss a specific AI, but rather the repercusions of having an AI that can create a scenerey, sound, etc. that is so lifelike that we forget what is real and what is not.  "
   ]
  },
  {
   "cell_type": "markdown",
   "metadata": {},
   "source": [
    "### Creative Generalization\n",
    "This article pertains a lot to today's society.  We are so intuned to our technology and programs that we tend to loose track of reality and what is really important aside from our computer screens.  "
   ]
  },
  {
   "cell_type": "markdown",
   "metadata": {},
   "source": [
    "### Potential Problem\n",
    "A potential problem of AI creating such realistic sounds and images is that humans may, in the future, may loose a grasp on reality.  "
   ]
  }
 ],
 "metadata": {
  "kernelspec": {
   "display_name": "Python 3",
   "language": "python",
   "name": "python3"
  },
  "language_info": {
   "codemirror_mode": {
    "name": "ipython",
    "version": 3
   },
   "file_extension": ".py",
   "mimetype": "text/x-python",
   "name": "python",
   "nbconvert_exporter": "python",
   "pygments_lexer": "ipython3",
   "version": "3.6.1"
  }
 },
 "nbformat": 4,
 "nbformat_minor": 2
}
