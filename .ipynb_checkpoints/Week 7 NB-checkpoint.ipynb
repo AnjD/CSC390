{
 "cells": [
  {
   "cell_type": "markdown",
   "metadata": {},
   "source": [
    "# The Seven Deadly Sins of Predicting the Future of AI"
   ]
  },
  {
   "cell_type": "markdown",
   "metadata": {},
   "source": [
    "## Summary:\n",
    "\n",
    "A. Artificial General Intellegance - is an attempt to distinguish a thinking entity from current day AI technology such as Machine Learning\n",
    "\n",
    "B. The Singularity - the idea that eventually an AI based intelligent entity, with goals and purposes, will be better at AI research than us humans are\n",
    "\n",
    "C. Missaligned Values - Artificial Intelligence based machines get really good at execution of tasks, so much so that they are super human at getting things done in a complex world\n",
    "\n",
    "D. Really evil horrible nasty human-destroying Artificially Intelligent entities - Artificial Intelligence powered machines will take an active dislike to humans and decide to destroy them and them out of the way\n",
    "\n",
    "1) Over and Under Estimating [A,B,C,D]\n",
    "- \"We tend to overestimate the effect of a technology in the short run and underestimate the effect in a long run\" \n",
    "\n",
    "2) Imagining Magic [B,C,D]\n",
    "- When a distinguished but elderly scientist states that something is possible, he is almost certainly right.  When he states that something is impossible, he is very probably wrong.  \n",
    "- The only way of discovering the limits of the posible is to venture a little way past them into the impossible.\n",
    "- Any sufficiently advanced technology is indistinguishable from magic.\n",
    "\n",
    "3) Performance Versus Competence [A,B,C]\n",
    "- Do not try to compare the competence of an AI to that of a human\n",
    "\n",
    "4) Suitcase Words [A,B]\n",
    "- Suitcase words lead people astray in understanding how well machines are doing at tasks that people can do\n",
    "\n",
    "5) Exponentials [A,A,B,B,...]\n",
    "- Prediction: the number of components that could fit on a microchip would double every year\n",
    "- When you see expontential arguments as justification for what will happen with AI remember that not all so called exponentials are really exponentials in the first place, and those that are can collapse suddenly when a physical limit is hit, or there is no more economic impact to continue them.\n",
    "\n",
    "6) Hollywood Scenarios [C,D]\n",
    "- \"Hollywood scenarios\" are a great rhetorical device for arguments, but they usually do not have any connection to future reality\n",
    "\n",
    "7) Speed of Deployment [B,C,D]\n",
    "- New ideas in robotics and AI take a long time to become real and deployed\n"
   ]
  },
  {
   "cell_type": "markdown",
   "metadata": {},
   "source": [
    "## Questions:\n",
    "\n",
    "1) I do not believe the 6th point is exactly true, there are certain movies that predicted the future and came true.  So is it really that far fetched to think that some things predicted in movies won't ever come true?\n",
    "\n",
    "2) I do not fully understand why it is so bad to overestimate technology.  Without overestimating the capabilities of modern day tech, we would not have some of the tech that we have now (like iPhones).  Why is it so bad to overestimate the capability of technology?"
   ]
  }
 ],
 "metadata": {
  "kernelspec": {
   "display_name": "Python 3",
   "language": "python",
   "name": "python3"
  },
  "language_info": {
   "codemirror_mode": {
    "name": "ipython",
    "version": 3
   },
   "file_extension": ".py",
   "mimetype": "text/x-python",
   "name": "python",
   "nbconvert_exporter": "python",
   "pygments_lexer": "ipython3",
   "version": "3.6.1"
  }
 },
 "nbformat": 4,
 "nbformat_minor": 2
}
