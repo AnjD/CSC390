{
 "cells": [
  {
   "cell_type": "markdown",
   "metadata": {
    "collapsed": true
   },
   "source": [
    "# Researchers Use Wikipedia to Give AI Context Clues"
   ]
  },
  {
   "cell_type": "markdown",
   "metadata": {
    "collapsed": true
   },
   "source": [
    "### Summary\n",
    "\n",
    "Humans have an intuition of what to do with certain objects.  For example when we see a chair we know to either sit on it, move it, tilt it, or lift it up.  Currently AI agents can identify objects, but don't know what to do with that certain object.  They do not have the same intuition as humans do.  \n",
    "\n",
    "Professor David Wingate and his student researchers are currently working on this problem.  They are using machine learning in their efforts to do so. "
   ]
  },
  {
   "cell_type": "markdown",
   "metadata": {},
   "source": [
    "#### Additional Notes:\n",
    "I find it interesting that the group is in an essence trying to build an intuition for the AI. "
   ]
  },
  {
   "cell_type": "markdown",
   "metadata": {
    "collapsed": true
   },
   "source": [
    "### How would you go about coding this AI?\n",
    "1) Create a small data base of some basic human intuitions\n",
    "\n",
    "2) Train the AI on these intuitions and see its initial response\n",
    "\n",
    "3) Create a slightly bigger data base of human intuitions\n",
    "\n",
    "4) Repeat the steps until you are satisfied with the the results"
   ]
  },
  {
   "cell_type": "markdown",
   "metadata": {},
   "source": [
    "### Creative Generalization\n",
    "The article and research itself was very interesting.  You normally don't think of the intuitions humans have when it is what we use on a daily basis.  It is intriguing that the group wants to bring this basic human behaviour into AI.  "
   ]
  },
  {
   "cell_type": "markdown",
   "metadata": {},
   "source": [
    "### Potential Problem\n",
    "One potential problem I forsee is that the AI will never be able to fully \"understand\" what a human intuition is because, in my opinion, you cannot make an AI think like a human does.  "
   ]
  }
 ],
 "metadata": {
  "kernelspec": {
   "display_name": "Python 3",
   "language": "python",
   "name": "python3"
  },
  "language_info": {
   "codemirror_mode": {
    "name": "ipython",
    "version": 3
   },
   "file_extension": ".py",
   "mimetype": "text/x-python",
   "name": "python",
   "nbconvert_exporter": "python",
   "pygments_lexer": "ipython3",
   "version": "3.6.1"
  }
 },
 "nbformat": 4,
 "nbformat_minor": 2
}
