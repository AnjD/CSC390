{
 "cells": [
  {
   "cell_type": "markdown",
   "metadata": {},
   "source": [
    "# Video Game Skills and IQ"
   ]
  },
  {
   "cell_type": "markdown",
   "metadata": {
    "collapsed": true
   },
   "source": [
    "### Summary\n",
    "The article explores the coorelation between good video game skills and high IQ.  When looking at the people that play MOBA League of Legends, researchers found that there is a coorelation between performance in the game and scores on a basic intellegence test.  The same coorelation can be found with intellectually challenging games.  "
   ]
  },
  {
   "cell_type": "markdown",
   "metadata": {},
   "source": [
    "#### Additional Comments:\n",
    "I find this coorelation very intriguing since I enjoy playing video games and seeing that there is a coorelation between high IQ and game performance, I feel, is very impressive. "
   ]
  },
  {
   "cell_type": "markdown",
   "metadata": {},
   "source": [
    "### Creative Generalization\n",
    "Since a lot of the young population plays video games, this study proves as a counter argument in a sense to the current views the general public has on video games.   "
   ]
  },
  {
   "cell_type": "markdown",
   "metadata": {},
   "source": [
    "### Potential Problem\n",
    "I personally do not feel that this study will have any negative effects or impacts on society or a group of individuals.  "
   ]
  }
 ],
 "metadata": {
  "kernelspec": {
   "display_name": "Python 3",
   "language": "python",
   "name": "python3"
  },
  "language_info": {
   "codemirror_mode": {
    "name": "ipython",
    "version": 3
   },
   "file_extension": ".py",
   "mimetype": "text/x-python",
   "name": "python",
   "nbconvert_exporter": "python",
   "pygments_lexer": "ipython3",
   "version": "3.6.1"
  }
 },
 "nbformat": 4,
 "nbformat_minor": 2
}
