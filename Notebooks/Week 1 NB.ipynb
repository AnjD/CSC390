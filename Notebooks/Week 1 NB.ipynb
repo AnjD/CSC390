{
 "cells": [
  {
   "cell_type": "markdown",
   "metadata": {},
   "source": [
    "# Week #1\n",
    "## Can robots write meaningful news? (A breakdown)"
   ]
  },
  {
   "cell_type": "markdown",
   "metadata": {},
   "source": [
    "### Summary\n",
    "Robots are able to help journalists produce data for their articles.  But, is data mining the only thing they can do?  What if these robots not only collect data, but write the articles too?\n",
    "\n",
    "This is a question on the minds of researchers at the Jönköping International Business School, Jönköping University.  The DPer News(Digital Personalization of the News) project aims to have robots create personalized news for its patrons.  Can this be possible?  Can robots make a personalized account of events happening around the world?"
   ]
  },
  {
   "cell_type": "markdown",
   "metadata": {},
   "source": [
    "#### Additional Notes:\n",
    "This article made me think about AI thinking rationally and if it is possible for it to think ratiaonally right from the get go.  The DPer News project has a similar concept, as the AI would have to mimic the writing of a human.  This can only be done if the AI is given time to analyze the patterns of human writing and can't be expected to know ins and outs of human writing.  "
   ]
  },
  {
   "cell_type": "markdown",
   "metadata": {},
   "source": [
    "### How would you go about coding this AI?\n",
    "1) Have the AI scrape the web for data on the article\n",
    "\n",
    "2) Have AI analyze past articles on the subject and notice patterns in the writing\n",
    "\n",
    "3) Make the AI reproduce several versions of the article\n",
    "\n",
    "4) Analyze the reactions of the readers to the article\n",
    "    - This can be done by noticing how long the reader takes to read the article, how far the reader scrolls down the page, and if they comment on/ share the article\n",
    "\n",
    "5) Further perfect this algorithm by the above analysis"
   ]
  },
  {
   "cell_type": "markdown",
   "metadata": {},
   "source": [
    "### Creative Generalization\n",
    "\n",
    "This article is very thought provoking and asks a very interesting question; can robots demonstrate the same amount of personalization as a person.  "
   ]
  },
  {
   "cell_type": "markdown",
   "metadata": {},
   "source": [
    "### Potential Problem\n",
    "\n",
    "One potential problem I can see from the above coding example of the algorithm is that there may be a serious invasion of privacy.  A good way to make sure that people's privacy is not invaded is to ask permission from the person if data from their time on the site can be analyzed."
   ]
  }
 ],
 "metadata": {
  "kernelspec": {
   "display_name": "Python 3",
   "language": "python",
   "name": "python3"
  },
  "language_info": {
   "codemirror_mode": {
    "name": "ipython",
    "version": 3
   },
   "file_extension": ".py",
   "mimetype": "text/x-python",
   "name": "python",
   "nbconvert_exporter": "python",
   "pygments_lexer": "ipython3",
   "version": "3.6.1"
  }
 },
 "nbformat": 4,
 "nbformat_minor": 2
}
