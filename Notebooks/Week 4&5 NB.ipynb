{
 "cells": [
  {
   "cell_type": "markdown",
   "metadata": {},
   "source": [
    "# Phone Spotting AI Spots Sick Plants with Remarkable Accuracy"
   ]
  },
  {
   "cell_type": "markdown",
   "metadata": {
    "collapsed": true
   },
   "source": [
    "### Summary\n",
    "\n",
    "The article explores a smart phone AI that detects diseases in the Cassava plant with a near 100% accuracy.  The entire neural network that determines this is on a smartphome platform.  They used TensoFlow, Google's machine learning library to help make this possible.  Instead of recieving millions of images on diseased cassava leaves the neural network uses something called transfer learning.  If a neural network is already trained to recognize certain objects it can then recognize another object with a lot less data.  \n",
    "\n",
    "Due to transfer learning the research team only needs to feed the neural network ~2,400 images of the cassava plant.  One downfall as of now is that not all farmers have access to smartphones and so cannot use the app.  The research team also states that they can easily adopt the app to discover other diseased plants as well.   "
   ]
  },
  {
   "cell_type": "markdown",
   "metadata": {},
   "source": [
    "#### Additional Comments\n",
    "I am amazed by how this app can identify sick plants with such amazing accuracy.  What astonishes me more is that the neural network is entirely on a smart phone and does not require cloud computing or preprocessors.  I was very intrigued by transfer learning so I looked it up and found this webpage quite helpful: http://ruder.io/transfer-learning/"
   ]
  },
  {
   "cell_type": "markdown",
   "metadata": {},
   "source": [
    "### How would you go about coding this AI?\n",
    "The article and paper goes quite in depth on how the neural network works.  Some points I found was:\n",
    "\n",
    "1) The team used TensorFlow, Google's machine learning library\n",
    "\n",
    "2) They also adopted transfer learning"
   ]
  },
  {
   "cell_type": "markdown",
   "metadata": {},
   "source": [
    "### Creative Generalization\n",
    "This research team has explored a new way of using a neural network that doesn't require too much excess computing power and can be adopted to other similar problems.  "
   ]
  },
  {
   "cell_type": "markdown",
   "metadata": {},
   "source": [
    "### Potential Problem\n",
    "One potential problem I see, which was pointed out in the article, was that smartphones are not readily available to all farmers especially those in developing countries.  So, this might not be helpful in places that it is needed.  "
   ]
  }
 ],
 "metadata": {
  "kernelspec": {
   "display_name": "Python 3",
   "language": "python",
   "name": "python3"
  },
  "language_info": {
   "codemirror_mode": {
    "name": "ipython",
    "version": 3
   },
   "file_extension": ".py",
   "mimetype": "text/x-python",
   "name": "python",
   "nbconvert_exporter": "python",
   "pygments_lexer": "ipython3",
   "version": "3.6.1"
  }
 },
 "nbformat": 4,
 "nbformat_minor": 2
}
